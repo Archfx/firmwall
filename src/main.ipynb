{
 "cells": [
  {
   "cell_type": "markdown",
   "id": "30fbe473-d3a3-407b-817c-36c5df850144",
   "metadata": {},
   "source": [
    "Firmwall\n",
    "----"
   ]
  },
  {
   "cell_type": "code",
   "execution_count": 5,
   "id": "cece603b-16b3-4a34-94bb-5faef40a4b8e",
   "metadata": {},
   "outputs": [],
   "source": [
    "import claripy\n",
    "import angr\n",
    "from angrutils import *\n",
    "\n",
    "def load_bin( bin_path):\n",
    "\treturn angr.Project( bin_path, load_options={'auto_load_libs': False})\n",
    "\n",
    "def get_cfg( project):\n",
    "\treturn project.analyses.CFGEmulated(keep_state=True)\n",
    "\n"
   ]
  },
  {
   "cell_type": "markdown",
   "id": "fa318d58",
   "metadata": {},
   "source": [
    "### Import PSA_CRYPTO "
   ]
  },
  {
   "cell_type": "code",
   "execution_count": 6,
   "id": "506c2cb8",
   "metadata": {},
   "outputs": [
    {
     "name": "stderr",
     "output_type": "stream",
     "text": [
      "WARNING  | 2024-06-10 17:28:46,199 | cle.backends.tls.tls_object | The provided object has an invalid tls_data_size. Skip TLS loading.\n",
      "WARNING  | 2024-06-10 17:28:49,602 | angr.state_plugins.callstack | Returning to an unexpected address 0x102f93\n",
      "WARNING  | 2024-06-10 17:28:49,648 | angr.state_plugins.callstack | Returning to an unexpected address 0x103181\n",
      "WARNING  | 2024-06-10 17:29:09,997 | angr.state_plugins.callstack | Returning to an unexpected address 0x101a47\n",
      "WARNING  | 2024-06-10 17:29:27,669 | angr.state_plugins.callstack | Returning to an unexpected address 0x1098c0\n",
      "WARNING  | 2024-06-10 17:29:29,642 | angr.state_plugins.callstack | Returning to an unexpected address 0x1098c0\n",
      "WARNING  | 2024-06-10 17:29:29,646 | angr.state_plugins.callstack | Returning to an unexpected address 0x1098c0\n"
     ]
    },
    {
     "name": "stdout",
     "output_type": "stream",
     "text": [
      "<Symbol \"psa_sign_hash\" in zephyr.elf at 0x105075>\n"
     ]
    }
   ],
   "source": [
    "project = load_bin('../binaries/tfm_integration/psa_crypto/bin/zephyr.elf')\n",
    "cfg = get_cfg(project)\n",
    "\n",
    "main = project.loader.main_object.get_symbol(\"psa_sign_hash\")\n",
    "print (main)\n",
    "start_state = project.factory.blank_state(addr=main.rebased_addr)\n",
    "cfg = project.analyses.CFGEmulated(fail_fast=True, starts=[main.rebased_addr], initial_state=start_state)\n",
    "plot_cfg(cfg, \"psa_sign_hash\", format=\"svg\", asminst=True, remove_imports=True, remove_path_terminator=True)"
   ]
  },
  {
   "cell_type": "markdown",
   "id": "fb81c624",
   "metadata": {},
   "source": []
  }
 ],
 "metadata": {
  "kernelspec": {
   "display_name": "Python 3 (ipykernel)",
   "language": "python",
   "name": "python3"
  },
  "language_info": {
   "codemirror_mode": {
    "name": "ipython",
    "version": 3
   },
   "file_extension": ".py",
   "mimetype": "text/x-python",
   "name": "python",
   "nbconvert_exporter": "python",
   "pygments_lexer": "ipython3",
   "version": "3.10.12"
  }
 },
 "nbformat": 4,
 "nbformat_minor": 5
}
